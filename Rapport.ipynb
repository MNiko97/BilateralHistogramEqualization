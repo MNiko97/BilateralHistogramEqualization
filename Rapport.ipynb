{
 "cells": [
  {
   "cell_type": "markdown",
   "metadata": {},
   "source": [
    "# BILATERAL HISTOGRAM EQUALIZATION FOR X-RAY IMAGE TONE MAPPING"
   ]
  },
  {
   "cell_type": "markdown",
   "metadata": {},
   "source": [
    "## Bin slices"
   ]
  },
  {
   "cell_type": "markdown",
   "metadata": {},
   "source": [
    "Ouvrir image"
   ]
  },
  {
   "cell_type": "code",
   "execution_count": 80,
   "metadata": {},
   "outputs": [
    {
     "name": "stdout",
     "output_type": "stream",
     "text": [
      "(1024, 1024)\n",
      "uint16\n",
      "[[ 6997  6923  6745 ...   793   793   794]\n",
      " [20567 20161 19566 ... 14057 14057 14057]\n",
      " [21081 20508 19928 ... 14615 14616 14616]\n",
      " ...\n",
      " [16361 16156 15887 ... 15788 14641 13382]\n",
      " [16204 15995 15911 ... 15605 14825 13957]\n",
      " [ 7150  7127  7069 ...  1832  1759  1735]]\n"
     ]
    }
   ],
   "source": [
    "import cv2 as cv\n",
    "import numpy as np\n",
    "from matplotlib import pyplot as plt\n",
    "\n",
    "hdr_img = cv.imread(\"image/image.tif\", -1)\n",
    "\n",
    "print(hdr_img.shape) #Dimention\n",
    "print(hdr_img.dtype) #Nb de Bits\n",
    "print(hdr_img)       #Matrice\n",
    "\n",
    "cv.imshow('TiffExemple',hdr_img) # Show Image TIFF\n",
    "cv.waitKey(0)\n",
    "cv.destroyAllWindows()"
   ]
  },
  {
   "cell_type": "markdown",
   "metadata": {},
   "source": [
    "![title](image/Capture1.png)"
   ]
  },
  {
   "cell_type": "markdown",
   "metadata": {},
   "source": [
    "Show histogram"
   ]
  },
  {
   "cell_type": "code",
   "execution_count": 81,
   "metadata": {},
   "outputs": [
    {
     "name": "stdout",
     "output_type": "stream",
     "text": [
      "[0.0000e+00 1.0000e+00 2.0000e+00 ... 6.5534e+04 6.5535e+04 6.5536e+04]\n",
      "65537\n"
     ]
    },
    {
     "data": {
      "image/png": "[encoded data removed]",
      "text/plain": [
       "<Figure size 432x288 with 1 Axes>"
      ]
     },
     "metadata": {
      "needs_background": "light"
     },
     "output_type": "display_data"
    }
   ],
   "source": [
    "\n",
    "max_bit = 2**16\n",
    "hist,bins = np.histogram(hdr_img.flatten(),max_bit,[0,max_bit])\n",
    "print(bins)\n",
    "print(len(bins))\n",
    "cdf = hist.cumsum()\n",
    "cdf_normalized = cdf * float(hist.max()) / cdf.max()\n",
    "plt.plot(cdf_normalized, color = 'b')\n",
    "plt.hist(hdr_img.flatten(),max_bit,[0,max_bit], color = 'r')\n",
    "plt.xlim([0,max_bit])\n",
    "plt.legend(('cdf','histogram'), loc = 'upper left')\n",
    "plt.show()"
   ]
  },
  {
   "cell_type": "markdown",
   "metadata": {},
   "source": [
    "Stretch hist"
   ]
  },
  {
   "cell_type": "code",
   "execution_count": 82,
   "metadata": {},
   "outputs": [],
   "source": [
    "cdf_m = np.ma.masked_equal(cdf,0)\n",
    "cdf_m = (cdf_m - cdf_m.min())*max_bit/(cdf_m.max()-cdf_m.min())\n",
    "cdf = np.ma.filled(cdf_m,0).astype('uint16')\n",
    "\n",
    "img_stretch = cdf[hdr_img]\n",
    "\n",
    "cv.imshow('TiffStretchExemple',img_stretch)\n",
    "cv.waitKey(0)\n",
    "cv.destroyAllWindows()"
   ]
  },
  {
   "cell_type": "markdown",
   "metadata": {},
   "source": [
    "![title](image/Capture2.png)"
   ]
  },
  {
   "cell_type": "markdown",
   "metadata": {},
   "source": [
    "show stretch histogram"
   ]
  },
  {
   "cell_type": "code",
   "execution_count": 83,
   "metadata": {},
   "outputs": [
    {
     "data": {
      "image/png": "[encoded data removed]",
      "text/plain": [
       "<Figure size 432x288 with 1 Axes>"
      ]
     },
     "metadata": {
      "needs_background": "light"
     },
     "output_type": "display_data"
    }
   ],
   "source": [
    "max_bit = 2**16\n",
    "hist,bins = np.histogram(img_stretch.flatten(),max_bit,[0,max_bit])\n",
    "\n",
    "\n",
    "cdf = hist.cumsum()\n",
    "cdf_normalized = cdf * float(hist.max()) / cdf.max()\n",
    "plt.plot(cdf_normalized, color = 'b')\n",
    "plt.hist(img_stretch.flatten(),max_bit,[0,max_bit], color = 'r')\n",
    "plt.xlim([0,max_bit])\n",
    "plt.legend(('cdf','histogram'), loc = 'upper left')\n",
    "plt.show()"
   ]
  },
  {
   "cell_type": "markdown",
   "metadata": {},
   "source": [
    "Bin Division"
   ]
  },
  {
   "cell_type": "code",
   "execution_count": 96,
   "metadata": {},
   "outputs": [
    {
     "name": "stdout",
     "output_type": "stream",
     "text": [
      "30\n",
      "1024\n"
     ]
    }
   ],
   "source": [
    "'''\n",
    "division = 2184\n",
    "binlist = []\n",
    "\n",
    "for i in range(30):\n",
    "    Min_range = i * division\n",
    "    Max_range = (i+1) * division\n",
    "\n",
    "    img_scaled = cv.normalize(hdr_img, dst=None, alpha=Min_range, beta=Max_range, norm_type=cv.NORM_MINMAX)\n",
    "    binlist.append(img_scaled)\n",
    "\n",
    "\n",
    "#print(binlist)\n",
    "print(len(binlist))\n",
    "\n",
    "#print(binlist[0])\n",
    "print(len(binlist[0][0]))\n",
    "'''"
   ]
  },
  {
   "cell_type": "markdown",
   "metadata": {},
   "source": [
    "Bin Division 2"
   ]
  },
  {
   "cell_type": "code",
   "execution_count": 99,
   "metadata": {},
   "outputs": [
    {
     "name": "stdout",
     "output_type": "stream",
     "text": [
      "30\n",
      "2185\n"
     ]
    }
   ],
   "source": [
    "division = 2184\n",
    "binlist = []\n",
    "\n",
    "for i in range(30):\n",
    "    Min_range = i * division\n",
    "    Max_range = (i+1) * division\n",
    "\n",
    "    hist,bins = np.histogram(hdr_img.flatten(),Max_range,[Min_range,Max_range])\n",
    "    binlist.append(bins)\n",
    "\n",
    "\n",
    "#print(binlist)\n",
    "print(len(binlist))\n",
    "\n",
    "#print(binlist[0])\n",
    "print(len(binlist[0]))"
   ]
  },
  {
   "cell_type": "markdown",
   "metadata": {},
   "source": [
    "Afficher Un Bin"
   ]
  },
  {
   "cell_type": "code",
   "execution_count": 100,
   "metadata": {},
   "outputs": [],
   "source": [
    "\n",
    "cv.imshow('TiffStretchExemple',binlist[21])\n",
    "cv.waitKey(0)\n",
    "cv.destroyAllWindows()"
   ]
  },
  {
   "cell_type": "code",
   "execution_count": null,
   "metadata": {},
   "outputs": [],
   "source": []
  }
 ],
 "metadata": {
  "interpreter": {
   "hash": "9e65d4b03016dbaffff304cc648268580c439ecdb40e6ece017ec9a0a27fe717"
  },
  "kernelspec": {
   "display_name": "Python 3.8.5 64-bit",
   "language": "python",
   "name": "python3"
  },
  "language_info": {
   "codemirror_mode": {
    "name": "ipython",
    "version": 3
   },
   "file_extension": ".py",
   "mimetype": "text/x-python",
   "name": "python",
   "nbconvert_exporter": "python",
   "pygments_lexer": "ipython3",
   "version": "3.8.5"
  },
  "orig_nbformat": 4
 },
 "nbformat": 4,
 "nbformat_minor": 2
}
