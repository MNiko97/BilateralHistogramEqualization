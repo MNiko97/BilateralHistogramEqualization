{
 "cells": [
  {
   "cell_type": "markdown",
   "metadata": {},
   "source": [
    "apply the bilateral blur then sustract it from the original image then add the result to the original image"
   ]
  },
  {
   "cell_type": "code",
   "execution_count": 42,
   "metadata": {},
   "outputs": [],
   "source": [
    "import cv2 as cv\n",
    "import numpy as np\n",
    "from matplotlib import pyplot as plt\n",
    "\n",
    "hdr_img = cv.imread(\"image/image.tif\", -1)\n",
    "cv.imshow('TiffExemple',hdr_img)\n",
    "cv.waitKey(0)\n",
    "cv.destroyAllWindows()\n"
   ]
  },
  {
   "cell_type": "code",
   "execution_count": 69,
   "metadata": {},
   "outputs": [
    {
     "data": {
      "text/plain": [
       "array([[244, 244, 243, ..., 218, 218, 218],\n",
       "       [ 89,  85,  83, ...,  59,  59,  59],\n",
       "       [ 93,  89,  84, ...,  65,  65,  65],\n",
       "       ...,\n",
       "       [ 69,  69,  67, ...,  69,  63,  54],\n",
       "       [ 69,  67,  67, ...,  66,  62,  57],\n",
       "       [255, 255,   0, ..., 222, 222, 222]], dtype=uint8)"
      ]
     },
     "execution_count": 69,
     "metadata": {},
     "output_type": "execute_result"
    }
   ],
   "source": [
    "\n",
    "img8 = (hdr_img/256).astype('uint8')\n",
    "#print(img8.dtype)\n",
    "blur = cv.bilateralFilter(img8,9,75,75)  #cv.bilateralFilter(src, d, sigmaColor, sigmaSpace[, dst[, borderType]])\n",
    " \n",
    "cv.imshow('TiffExemple',(img8-blur)+img8)\n",
    "cv.waitKey(0)\n",
    "cv.destroyAllWindows()\n",
    "\n",
    "def ApplyBilateralFilter(img):\n",
    "    blur = cv.bilateralFilter(img,9,75,75)\n",
    "    result = img + (img-blur) \n",
    "    return result\n",
    "\n",
    "ApplyBilateralFilter(img8)\n"
   ]
  },
  {
   "cell_type": "markdown",
   "metadata": {},
   "source": [
    "# Toolbox to get weight maps, slices and fusion"
   ]
  },
  {
   "cell_type": "code",
   "execution_count": 85,
   "metadata": {},
   "outputs": [],
   "source": [
    "from Bilateral_histogram_equalisation import showImageHDR\n",
    "from typing import List\n",
    "\n",
    "def getSlices(bins: int) -> List[np.ndarray]:\n",
    "    \"\"\"Cut image into equal sized of bins\n",
    "\n",
    "    Returns:\n",
    "        List[nd.array]: image slices\n",
    "    \"\"\"\n",
    "    x = np.linspace(0,65535,30)\n",
    "    sk = []\n",
    "    for i in range(bins-1):\n",
    "        null_compare = hdr_img[:,:] >= x[i+1]\n",
    "\n",
    "        if i > 0: \n",
    "            slice = (hdr_img - x[i]) / (x[i+1] - x[i])\n",
    "            slice = slice*null_compare\n",
    "            m, n = np.where(hdr_img >= x[i])\n",
    "            slice[m,n] = hdr_img[m, n]\n",
    "        else:\n",
    "            slice = hdr_img\n",
    "        sk.append(slice)\n",
    "    return sk\n",
    "\n",
    "def getWeightMap() -> List[np.ndarray]:\n",
    "    \"\"\"Find the best candidate for the weight map wk\n",
    "\n",
    "    Returns:\n",
    "        List[np.ndarray]: list of weight maps\n",
    "    \"\"\"\n",
    "    wk = []\n",
    "    for i in range(29):\n",
    "        one_compare = hdr_img[:,:] <= x[i]\n",
    "        null_compare = hdr_img[:,:] >= x[i+1]\n",
    "        other_compare = (~ one_compare)*(~ null_compare)\n",
    "\n",
    "        ik = other_compare*hdr_img\n",
    "        # ik = (ik/256).astype('uint8')\n",
    "        # ik = ApplyBilateralFilter(ik)\n",
    "        wk.append(ik)\n",
    "    return wk\n",
    "\n",
    "def fusion(weightMap: List[np.ndarray], slices: List[np.ndarray]) -> np.ndarray: \n",
    "    output = []\n",
    "    for i in range(29):\n",
    "        output.append(weightMap[i] @ slices[i])\n",
    "    result = output[0]\n",
    "    for i in range(1, 29):\n",
    "        result += output[i].astype('uint16')\n",
    "    showImageHDR(result)\n",
    "    return result"
   ]
  },
  {
   "cell_type": "code",
   "execution_count": 86,
   "metadata": {},
   "outputs": [
    {
     "data": {
      "text/plain": [
       "array([[ 5705,  9757, 32624, ..., 10852, 57894, 15528],\n",
       "       [23480, 58681, 42344, ...,  2823,   861, 39286],\n",
       "       [24009, 11522, 19280, ..., 12479, 64282, 22061],\n",
       "       ...,\n",
       "       [43424, 38875, 53596, ..., 17545, 44102, 48481],\n",
       "       [12607, 53673, 36029, ..., 53801, 22816, 62069],\n",
       "       [43573, 64809, 62195, ..., 32260, 24061, 13485]], dtype=uint16)"
      ]
     },
     "execution_count": 86,
     "metadata": {},
     "output_type": "execute_result"
    }
   ],
   "source": [
    "sk = getSlices(bins=30)\n",
    "wk = getWeightMap()\n",
    "fusion(wk, sk)"
   ]
  },
  {
   "cell_type": "markdown",
   "metadata": {},
   "source": [
    "Equalize(stretch) each slice"
   ]
  },
  {
   "cell_type": "code",
   "execution_count": 24,
   "metadata": {},
   "outputs": [
    {
     "ename": "IndexError",
     "evalue": "arrays used as indices must be of integer (or boolean) type",
     "output_type": "error",
     "traceback": [
      "\u001b[1;31m---------------------------------------------------------------------------\u001b[0m",
      "\u001b[1;31mIndexError\u001b[0m                                Traceback (most recent call last)",
      "\u001b[1;32m~\\AppData\\Local\\Temp\\ipykernel_16748\\2807689475.py\u001b[0m in \u001b[0;36m<module>\u001b[1;34m\u001b[0m\n\u001b[0;32m     11\u001b[0m     \u001b[0mcdf\u001b[0m \u001b[1;33m=\u001b[0m \u001b[0mnp\u001b[0m\u001b[1;33m.\u001b[0m\u001b[0mma\u001b[0m\u001b[1;33m.\u001b[0m\u001b[0mfilled\u001b[0m\u001b[1;33m(\u001b[0m\u001b[0mcdf_m\u001b[0m\u001b[1;33m,\u001b[0m\u001b[1;36m0\u001b[0m\u001b[1;33m)\u001b[0m\u001b[1;33m.\u001b[0m\u001b[0mastype\u001b[0m\u001b[1;33m(\u001b[0m\u001b[1;34m'uint16'\u001b[0m\u001b[1;33m)\u001b[0m\u001b[1;33m\u001b[0m\u001b[1;33m\u001b[0m\u001b[0m\n\u001b[0;32m     12\u001b[0m \u001b[1;33m\u001b[0m\u001b[0m\n\u001b[1;32m---> 13\u001b[1;33m     \u001b[0mslices_stretch\u001b[0m\u001b[1;33m.\u001b[0m\u001b[0mappend\u001b[0m\u001b[1;33m(\u001b[0m\u001b[0mcdf\u001b[0m\u001b[1;33m[\u001b[0m\u001b[0mslc\u001b[0m\u001b[1;33m]\u001b[0m\u001b[1;33m)\u001b[0m\u001b[1;33m\u001b[0m\u001b[1;33m\u001b[0m\u001b[0m\n\u001b[0m\u001b[0;32m     14\u001b[0m \u001b[1;33m\u001b[0m\u001b[0m\n\u001b[0;32m     15\u001b[0m \u001b[0mprint\u001b[0m\u001b[1;33m(\u001b[0m\u001b[0mnp\u001b[0m\u001b[1;33m.\u001b[0m\u001b[0marray\u001b[0m\u001b[1;33m(\u001b[0m\u001b[0mslices_stretch\u001b[0m\u001b[1;33m)\u001b[0m\u001b[1;33m.\u001b[0m\u001b[0mshape\u001b[0m\u001b[1;33m)\u001b[0m \u001b[1;31m# Show shape\u001b[0m\u001b[1;33m\u001b[0m\u001b[1;33m\u001b[0m\u001b[0m\n",
      "\u001b[1;31mIndexError\u001b[0m: arrays used as indices must be of integer (or boolean) type"
     ]
    }
   ],
   "source": [
    "slices_stretch = []\n",
    "max_bit = 2**16\n",
    "for slc in sk :\n",
    "\n",
    "    hist,bins = np.histogram(slc.flatten(),max_bit,[0,max_bit])\n",
    "    cdf = hist.cumsum()\n",
    "    cdf_normalized = cdf * float(hist.max()) / cdf.max()\n",
    "\n",
    "    cdf_m = np.ma.masked_equal(cdf,0)\n",
    "    cdf_m = (cdf_m - cdf_m.min())*max_bit/(cdf_m.max()-cdf_m.min())\n",
    "    cdf = np.ma.filled(cdf_m,0).astype('uint16')\n",
    "\n",
    "    slices_stretch.append(cdf[slc])\n",
    "\n",
    "print(np.array(slices_stretch).shape) # Show shape\n",
    "\n",
    "columns = 5\n",
    "rows = 6\n",
    "fig = plt.figure(figsize=(20, 20))\n",
    "for i in range(1, columns*rows +1):\n",
    "    img = sk[i-2]\n",
    "    fig.add_subplot(rows, columns, i)\n",
    "    plt.imshow(img)\n",
    "plt.show()\n",
    "\n",
    "\n",
    "cv.imshow('TiffStretchExemple',sk[5])\n",
    "cv.waitKey(0)\n",
    "cv.destroyAllWindows()\n",
    "\n",
    "cv.imshow('TiffStretchExemple',slices_stretch[5])\n",
    "cv.waitKey(0)\n",
    "cv.destroyAllWindows()\n"
   ]
  }
 ],
 "metadata": {
  "kernelspec": {
   "display_name": "Python 3 (ipykernel)",
   "language": "python",
   "name": "python3"
  },
  "language_info": {
   "codemirror_mode": {
    "name": "ipython",
    "version": 3
   },
   "file_extension": ".py",
   "mimetype": "text/x-python",
   "name": "python",
   "nbconvert_exporter": "python",
   "pygments_lexer": "ipython3",
   "version": "3.8.5"
  }
 },
 "nbformat": 4,
 "nbformat_minor": 2
}
