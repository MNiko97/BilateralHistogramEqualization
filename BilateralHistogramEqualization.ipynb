{
 "cells": [
  {
   "cell_type": "markdown",
   "metadata": {},
   "source": [
    "# Bilateral Histogram Equalization"
   ]
  },
  {
   "cell_type": "markdown",
   "metadata": {},
   "source": [
    "## 1. Import useful libraries and open the sample image"
   ]
  },
  {
   "cell_type": "code",
   "execution_count": 1,
   "metadata": {},
   "outputs": [],
   "source": [
    "import cv2 as cv\n",
    "import numpy as np\n",
    "from matplotlib import pyplot as plt\n",
    "\n",
    "hdr_img = cv.imread(\"image/image.tif\", -1)\n",
    "cv.imshow('TiffExemple',hdr_img)\n",
    "cv.waitKey(0)\n",
    "cv.destroyAllWindows()\n"
   ]
  },
  {
   "cell_type": "markdown",
   "metadata": {},
   "source": [
    "## 2. Show histogram of the sample HDR image"
   ]
  },
  {
   "cell_type": "code",
   "execution_count": 2,
   "metadata": {},
   "outputs": [
    {
     "name": "stdout",
     "output_type": "stream",
     "text": [
      "[0.0000e+00 1.0000e+00 2.0000e+00 ... 6.5534e+04 6.5535e+04 6.5536e+04]\n",
      "65537\n"
     ]
    },
    {
     "data": {
      "image/png": "[encoded data removed]",
      "text/plain": [
       "<Figure size 432x288 with 1 Axes>"
      ]
     },
     "metadata": {
      "needs_background": "light"
     },
     "output_type": "display_data"
    }
   ],
   "source": [
    "\n",
    "max_bit = 2**16\n",
    "hist,bins = np.histogram(hdr_img.flatten(),max_bit,[0,max_bit])\n",
    "print(bins)\n",
    "print(len(bins))\n",
    "cdf = hist.cumsum()\n",
    "cdf_normalized = cdf * float(hist.max()) / cdf.max()\n",
    "plt.plot(cdf_normalized, color = 'b')\n",
    "plt.hist(hdr_img.flatten(),max_bit,[0,max_bit], color = 'r')\n",
    "plt.xlim([0,max_bit])\n",
    "plt.legend(('cdf','histogram'), loc = 'upper left')\n",
    "plt.show()"
   ]
  },
  {
   "cell_type": "markdown",
   "metadata": {},
   "source": [
    "## 3. Streched sample histogram"
   ]
  },
  {
   "cell_type": "markdown",
   "metadata": {},
   "source": [
    "### 3.1 Show the resulting image from the stretching operation"
   ]
  },
  {
   "cell_type": "code",
   "execution_count": 4,
   "metadata": {},
   "outputs": [],
   "source": [
    "cdf_m = np.ma.masked_equal(cdf,0)\n",
    "cdf_m = (cdf_m - cdf_m.min())*max_bit/(cdf_m.max()-cdf_m.min())\n",
    "cdf = np.ma.filled(cdf_m,0).astype('uint16')\n",
    "\n",
    "img_stretch = cdf[hdr_img]\n",
    "\n",
    "cv.imshow('TiffStretchExemple',img_stretch)\n",
    "cv.waitKey(0)\n",
    "cv.destroyAllWindows()"
   ]
  },
  {
   "cell_type": "markdown",
   "metadata": {},
   "source": [
    "### 3.2 Plot the streched histogram"
   ]
  },
  {
   "cell_type": "code",
   "execution_count": 5,
   "metadata": {},
   "outputs": [
    {
     "data": {
      "image/png": "[encoded data removed]",
      "text/plain": [
       "<Figure size 432x288 with 1 Axes>"
      ]
     },
     "metadata": {
      "needs_background": "light"
     },
     "output_type": "display_data"
    }
   ],
   "source": [
    "max_bit = 2**16\n",
    "hist,bins = np.histogram(img_stretch.flatten(),max_bit,[0,max_bit])\n",
    "\n",
    "\n",
    "cdf = hist.cumsum()\n",
    "cdf_normalized = cdf * float(hist.max()) / cdf.max()\n",
    "plt.plot(cdf_normalized, color = 'b')\n",
    "plt.hist(img_stretch.flatten(),max_bit,[0,max_bit], color = 'r')\n",
    "plt.xlim([0,max_bit])\n",
    "plt.legend(('cdf','histogram'), loc = 'upper left')\n",
    "plt.show()"
   ]
  },
  {
   "cell_type": "markdown",
   "metadata": {},
   "source": [
    "# 4. Toolbox to get weight maps, slices and fusion"
   ]
  },
  {
   "cell_type": "code",
   "execution_count": 6,
   "metadata": {},
   "outputs": [],
   "source": [
    "from Bilateral_histogram_equalisation import showImageHDR\n",
    "from typing import List\n",
    "\n",
    "def getSlices(hdr_img: np.array, bins: int) -> List[np.ndarray]:\n",
    "    \"\"\"Cut image into equal sized bins.\n",
    "    Args:\n",
    "        hdr_img (np.ndarray): HDR image array.\n",
    "        bins (int): Number of desired bins.\n",
    "\n",
    "    Returns:\n",
    "        List[nd.array]: List of image slices array.\n",
    "    \"\"\"\n",
    "    M, N = hdr_img.shape\n",
    "    x = np.linspace(0,M*N, bins)\n",
    "    sk = []\n",
    "    for i in range(bins-1):\n",
    "        null_compare = hdr_img[:,:] >= x[i+1]\n",
    "        if i > 0: \n",
    "            slice = (hdr_img - x[i]) / (x[i+1] - x[i])\n",
    "            slice = slice*null_compare\n",
    "            m, n = np.where(hdr_img >= x[i])\n",
    "            slice[m,n] = hdr_img[m, n]\n",
    "        else:\n",
    "            slice = hdr_img\n",
    "        sk.append(slice)\n",
    "    return sk\n",
    "\n",
    "def getWeightMap(hdr_img: np.array, bins: int) -> List[np.ndarray]:\n",
    "    \"\"\"Find the best candidate for the weight map wk.\n",
    "    Args:\n",
    "        hdr_img (np.ndarray): HDR image array.\n",
    "        bins (int): Number of desired bins.\n",
    "\n",
    "    Returns:\n",
    "        List[np.ndarray]: List of weight maps array.\n",
    "    \"\"\"\n",
    "    M, N = hdr_img.shape\n",
    "    x = np.linspace(0, M*N, bins) \n",
    "    wk = []\n",
    "    for i in range(bins -1):\n",
    "        one_compare = hdr_img[:,:] <= x[i]\n",
    "        null_compare = hdr_img[:,:] >= x[i+1]\n",
    "        other_compare = (~ one_compare)*(~ null_compare)\n",
    "        ik = other_compare*hdr_img\n",
    "        wk.append(ik)\n",
    "    return wk\n",
    "\n",
    "def fusion(weightMap: List[np.ndarray], slices: List[np.ndarray], bins: int) -> np.ndarray: \n",
    "    \"\"\"Fusion of two given array is based on the sum of their product.\n",
    "    Args:\n",
    "        weightMap (List[np.ndarray]): Weightmap array.\n",
    "        slices (List[np.ndarray]): Slices array.\n",
    "        bins (int): Number of desired bins.\n",
    "\n",
    "    Returns:\n",
    "        np.ndarray: Fusioned weightmap and slices array.\n",
    "    \"\"\"\n",
    "    output = []\n",
    "    for i in range(bins -1):\n",
    "        output.append(weightMap[i] @ slices[i])\n",
    "    result = output[0]\n",
    "    for i in range(1, bins -1):\n",
    "        result += output[i].astype('uint16')\n",
    "    showImageHDR(result)\n",
    "    return result"
   ]
  },
  {
   "cell_type": "markdown",
   "metadata": {},
   "source": [
    "## 5. Get slices and weigth maps then fusion both array to show the final result"
   ]
  },
  {
   "cell_type": "code",
   "execution_count": 8,
   "metadata": {},
   "outputs": [
    {
     "data": {
      "text/plain": [
       "array([[11454, 57749, 47619, ..., 44779, 56270, 53882],\n",
       "       [64673,  1007, 56953, ..., 50637, 56371, 56613],\n",
       "       [46914, 51262, 54263, ..., 25870,  7055,  2434],\n",
       "       ...,\n",
       "       [57909, 63136, 26981, ..., 48803, 38667,  8478],\n",
       "       [34662, 60682, 51122, ..., 17555, 50461, 13040],\n",
       "       [57079, 54426, 19233, ..., 28032, 19194, 61806]], dtype=uint16)"
      ]
     },
     "execution_count": 8,
     "metadata": {},
     "output_type": "execute_result"
    }
   ],
   "source": [
    "sk = getSlices(hdr_img, bins=30)\n",
    "wk = getWeightMap(hdr_img, bins=30)\n",
    "fusion(wk, sk, bins=30)"
   ]
  }
 ],
 "metadata": {
  "kernelspec": {
   "display_name": "Python 3 (ipykernel)",
   "language": "python",
   "name": "python3"
  },
  "language_info": {
   "codemirror_mode": {
    "name": "ipython",
    "version": 3
   },
   "file_extension": ".py",
   "mimetype": "text/x-python",
   "name": "python",
   "nbconvert_exporter": "python",
   "pygments_lexer": "ipython3",
   "version": "3.7.11"
  }
 },
 "nbformat": 4,
 "nbformat_minor": 2
}
